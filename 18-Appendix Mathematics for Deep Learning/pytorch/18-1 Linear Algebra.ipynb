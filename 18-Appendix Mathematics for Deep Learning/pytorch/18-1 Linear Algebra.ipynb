{
 "cells": [
  {
   "cell_type": "markdown",
   "metadata": {},
   "source": [
    "Two geometry point of view of vectors:\n",
    "- Points in the plane\n",
    "- Directions in the plane"
   ]
  },
  {
   "cell_type": "code",
   "execution_count": 1,
   "metadata": {},
   "outputs": [
    {
     "data": {
      "text/plain": [
       "tensor(0.4190)"
      ]
     },
     "execution_count": 1,
     "metadata": {},
     "output_type": "execute_result"
    }
   ],
   "source": [
    "%matplotlib inline\n",
    "import torch\n",
    "import torchvision\n",
    "from IPython import display\n",
    "from torchvision import transforms\n",
    "from d2l import torch as d2l\n",
    "\n",
    "# compute the angle of two vectors v and w\n",
    "def angle(v, w):\n",
    "    return torch.acos(v.dot(w) / (torch.norm(v) * torch.norm(w)))\n",
    "\n",
    "angle(torch.tensor([0, 1, 2], dtype=torch.float32), torch.tensor([2.0, 3, 4]))"
   ]
  },
  {
   "cell_type": "markdown",
   "metadata": {},
   "source": [
    "## Cosine Similarity\n",
    "Using cosine of the angle between two vector v and w to measure the closeness"
   ]
  },
  {
   "cell_type": "markdown",
   "metadata": {},
   "source": [
    "## Hyperplanes"
   ]
  },
  {
   "cell_type": "code",
   "execution_count": 2,
   "metadata": {},
   "outputs": [],
   "source": [
    "# Load in the dataset\n",
    "trans = []\n",
    "trans.append(transforms.ToTensor())\n",
    "trans = transforms.Compose(trans)\n",
    "train = torchvision.datasets.FashionMNIST(root=\"../../data\", transform=trans,\n",
    "                                          train=True, download=True)\n",
    "test = torchvision.datasets.FashionMNIST(root=\"../../data\", transform=trans,\n",
    "                                         train=False, download=True)\n",
    "\n"
   ]
  },
  {
   "cell_type": "code",
   "execution_count": 12,
   "metadata": {},
   "outputs": [],
   "source": [
    "# x[0] is the tensor data, x[1] is the label (data, label)\n",
    "# take all train data with label 0\n",
    "X_train_0 = torch.stack(\n",
    "    [x[0] * 256 for x in train if x[1] == 0]).type(torch.float32)\n",
    "# take all train data with label 1\n",
    "X_train_1 = torch.stack(\n",
    "    [x[0] * 256 for x in train if x[1] == 1]).type(torch.float32)\n",
    "# take all test data with label 0 and 1\n",
    "X_test = torch.stack(\n",
    "    [x[0] * 256 for x in test if x[1] == 0 or x[1] == 1]).type(torch.float32)\n",
    "y_test = torch.stack([torch.tensor(x[1]) for x in test\n",
    "                      if x[1] == 0 or x[1] == 1]).type(torch.float32)\n",
    "\n",
    "# Compute averages\n",
    "ave_0 = torch.mean(X_train_0, axis=0)\n",
    "ave_1 = torch.mean(X_train_1, axis=0)"
   ]
  },
  {
   "cell_type": "code",
   "execution_count": 13,
   "metadata": {},
   "outputs": [
    {
     "data": {
      "image/svg+xml": "<?xml version=\"1.0\" encoding=\"utf-8\" standalone=\"no\"?>\r\n<!DOCTYPE svg PUBLIC \"-//W3C//DTD SVG 1.1//EN\"\r\n  \"http://www.w3.org/Graphics/SVG/1.1/DTD/svg11.dtd\">\r\n<svg height=\"168.350558pt\" version=\"1.1\" viewBox=\"0 0 170.025 168.350558\" width=\"170.025pt\" xmlns=\"http://www.w3.org/2000/svg\" xmlns:xlink=\"http://www.w3.org/1999/xlink\">\r\n <metadata>\r\n  <rdf:RDF xmlns:cc=\"http://creativecommons.org/ns#\" xmlns:dc=\"http://purl.org/dc/elements/1.1/\" xmlns:rdf=\"http://www.w3.org/1999/02/22-rdf-syntax-ns#\">\r\n   <cc:Work>\r\n    <dc:type rdf:resource=\"http://purl.org/dc/dcmitype/StillImage\"/>\r\n    <dc:date>2022-01-03T09:48:18.001993</dc:date>\r\n    <dc:format>image/svg+xml</dc:format>\r\n    <dc:creator>\r\n     <cc:Agent>\r\n      <dc:title>Matplotlib v3.4.3, https://matplotlib.org/</dc:title>\r\n     </cc:Agent>\r\n    </dc:creator>\r\n   </cc:Work>\r\n  </rdf:RDF>\r\n </metadata>\r\n <defs>\r\n  <style type=\"text/css\">*{stroke-linecap:butt;stroke-linejoin:round;}</style>\r\n </defs>\r\n <g id=\"figure_1\">\r\n  <g id=\"patch_1\">\r\n   <path d=\"M 0 168.350558 \r\nL 170.025 168.350558 \r\nL 170.025 0 \r\nL 0 0 \r\nz\r\n\" style=\"fill:none;\"/>\r\n  </g>\r\n  <g id=\"axes_1\">\r\n   <g id=\"patch_2\">\r\n    <path d=\"M 26.925 144.472433 \r\nL 162.825 144.472433 \r\nL 162.825 8.572433 \r\nL 26.925 8.572433 \r\nz\r\n\" style=\"fill:#ffffff;\"/>\r\n   </g>\r\n   <g clip-path=\"url(#pff379d7975)\">\r\n    <image height=\"136\" id=\"imageafd693a960\" transform=\"scale(1 -1)translate(0 -136)\" width=\"136\" x=\"26.925\" xlink:href=\"data:image/png;base64,\r\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\" y=\"-8.472433\"/>\r\n   </g>\r\n   <g id=\"matplotlib.axis_1\">\r\n    <g id=\"xtick_1\">\r\n     <g id=\"line2d_1\">\r\n      <defs>\r\n       <path d=\"M 0 0 \r\nL 0 3.5 \r\n\" id=\"mc8e9d7db6b\" style=\"stroke:#000000;stroke-width:0.8;\"/>\r\n      </defs>\r\n      <g>\r\n       <use style=\"stroke:#000000;stroke-width:0.8;\" x=\"29.351786\" xlink:href=\"#mc8e9d7db6b\" y=\"144.472433\"/>\r\n      </g>\r\n     </g>\r\n     <g id=\"text_1\">\r\n      <!-- 0 -->\r\n      <g transform=\"translate(26.170536 159.070871)scale(0.1 -0.1)\">\r\n       <defs>\r\n        <path d=\"M 2034 4250 \r\nQ 1547 4250 1301 3770 \r\nQ 1056 3291 1056 2328 \r\nQ 1056 1369 1301 889 \r\nQ 1547 409 2034 409 \r\nQ 2525 409 2770 889 \r\nQ 3016 1369 3016 2328 \r\nQ 3016 3291 2770 3770 \r\nQ 2525 4250 2034 4250 \r\nz\r\nM 2034 4750 \r\nQ 2819 4750 3233 4129 \r\nQ 3647 3509 3647 2328 \r\nQ 3647 1150 3233 529 \r\nQ 2819 -91 2034 -91 \r\nQ 1250 -91 836 529 \r\nQ 422 1150 422 2328 \r\nQ 422 3509 836 4129 \r\nQ 1250 4750 2034 4750 \r\nz\r\n\" id=\"DejaVuSans-30\" transform=\"scale(0.015625)\"/>\r\n       </defs>\r\n       <use xlink:href=\"#DejaVuSans-30\"/>\r\n      </g>\r\n     </g>\r\n    </g>\r\n    <g id=\"xtick_2\">\r\n     <g id=\"line2d_2\">\r\n      <g>\r\n       <use style=\"stroke:#000000;stroke-width:0.8;\" x=\"77.8875\" xlink:href=\"#mc8e9d7db6b\" y=\"144.472433\"/>\r\n      </g>\r\n     </g>\r\n     <g id=\"text_2\">\r\n      <!-- 10 -->\r\n      <g transform=\"translate(71.525 159.070871)scale(0.1 -0.1)\">\r\n       <defs>\r\n        <path d=\"M 794 531 \r\nL 1825 531 \r\nL 1825 4091 \r\nL 703 3866 \r\nL 703 4441 \r\nL 1819 4666 \r\nL 2450 4666 \r\nL 2450 531 \r\nL 3481 531 \r\nL 3481 0 \r\nL 794 0 \r\nL 794 531 \r\nz\r\n\" id=\"DejaVuSans-31\" transform=\"scale(0.015625)\"/>\r\n       </defs>\r\n       <use xlink:href=\"#DejaVuSans-31\"/>\r\n       <use x=\"63.623047\" xlink:href=\"#DejaVuSans-30\"/>\r\n      </g>\r\n     </g>\r\n    </g>\r\n    <g id=\"xtick_3\">\r\n     <g id=\"line2d_3\">\r\n      <g>\r\n       <use style=\"stroke:#000000;stroke-width:0.8;\" x=\"126.423214\" xlink:href=\"#mc8e9d7db6b\" y=\"144.472433\"/>\r\n      </g>\r\n     </g>\r\n     <g id=\"text_3\">\r\n      <!-- 20 -->\r\n      <g transform=\"translate(120.060714 159.070871)scale(0.1 -0.1)\">\r\n       <defs>\r\n        <path d=\"M 1228 531 \r\nL 3431 531 \r\nL 3431 0 \r\nL 469 0 \r\nL 469 531 \r\nQ 828 903 1448 1529 \r\nQ 2069 2156 2228 2338 \r\nQ 2531 2678 2651 2914 \r\nQ 2772 3150 2772 3378 \r\nQ 2772 3750 2511 3984 \r\nQ 2250 4219 1831 4219 \r\nQ 1534 4219 1204 4116 \r\nQ 875 4013 500 3803 \r\nL 500 4441 \r\nQ 881 4594 1212 4672 \r\nQ 1544 4750 1819 4750 \r\nQ 2544 4750 2975 4387 \r\nQ 3406 4025 3406 3419 \r\nQ 3406 3131 3298 2873 \r\nQ 3191 2616 2906 2266 \r\nQ 2828 2175 2409 1742 \r\nQ 1991 1309 1228 531 \r\nz\r\n\" id=\"DejaVuSans-32\" transform=\"scale(0.015625)\"/>\r\n       </defs>\r\n       <use xlink:href=\"#DejaVuSans-32\"/>\r\n       <use x=\"63.623047\" xlink:href=\"#DejaVuSans-30\"/>\r\n      </g>\r\n     </g>\r\n    </g>\r\n   </g>\r\n   <g id=\"matplotlib.axis_2\">\r\n    <g id=\"ytick_1\">\r\n     <g id=\"line2d_4\">\r\n      <defs>\r\n       <path d=\"M 0 0 \r\nL -3.5 0 \r\n\" id=\"mf1d97d9fab\" style=\"stroke:#000000;stroke-width:0.8;\"/>\r\n      </defs>\r\n      <g>\r\n       <use style=\"stroke:#000000;stroke-width:0.8;\" x=\"26.925\" xlink:href=\"#mf1d97d9fab\" y=\"10.999219\"/>\r\n      </g>\r\n     </g>\r\n     <g id=\"text_4\">\r\n      <!-- 0 -->\r\n      <g transform=\"translate(13.5625 14.798437)scale(0.1 -0.1)\">\r\n       <use xlink:href=\"#DejaVuSans-30\"/>\r\n      </g>\r\n     </g>\r\n    </g>\r\n    <g id=\"ytick_2\">\r\n     <g id=\"line2d_5\">\r\n      <g>\r\n       <use style=\"stroke:#000000;stroke-width:0.8;\" x=\"26.925\" xlink:href=\"#mf1d97d9fab\" y=\"35.267076\"/>\r\n      </g>\r\n     </g>\r\n     <g id=\"text_5\">\r\n      <!-- 5 -->\r\n      <g transform=\"translate(13.5625 39.066295)scale(0.1 -0.1)\">\r\n       <defs>\r\n        <path d=\"M 691 4666 \r\nL 3169 4666 \r\nL 3169 4134 \r\nL 1269 4134 \r\nL 1269 2991 \r\nQ 1406 3038 1543 3061 \r\nQ 1681 3084 1819 3084 \r\nQ 2600 3084 3056 2656 \r\nQ 3513 2228 3513 1497 \r\nQ 3513 744 3044 326 \r\nQ 2575 -91 1722 -91 \r\nQ 1428 -91 1123 -41 \r\nQ 819 9 494 109 \r\nL 494 744 \r\nQ 775 591 1075 516 \r\nQ 1375 441 1709 441 \r\nQ 2250 441 2565 725 \r\nQ 2881 1009 2881 1497 \r\nQ 2881 1984 2565 2268 \r\nQ 2250 2553 1709 2553 \r\nQ 1456 2553 1204 2497 \r\nQ 953 2441 691 2322 \r\nL 691 4666 \r\nz\r\n\" id=\"DejaVuSans-35\" transform=\"scale(0.015625)\"/>\r\n       </defs>\r\n       <use xlink:href=\"#DejaVuSans-35\"/>\r\n      </g>\r\n     </g>\r\n    </g>\r\n    <g id=\"ytick_3\">\r\n     <g id=\"line2d_6\">\r\n      <g>\r\n       <use style=\"stroke:#000000;stroke-width:0.8;\" x=\"26.925\" xlink:href=\"#mf1d97d9fab\" y=\"59.534933\"/>\r\n      </g>\r\n     </g>\r\n     <g id=\"text_6\">\r\n      <!-- 10 -->\r\n      <g transform=\"translate(7.2 63.334152)scale(0.1 -0.1)\">\r\n       <use xlink:href=\"#DejaVuSans-31\"/>\r\n       <use x=\"63.623047\" xlink:href=\"#DejaVuSans-30\"/>\r\n      </g>\r\n     </g>\r\n    </g>\r\n    <g id=\"ytick_4\">\r\n     <g id=\"line2d_7\">\r\n      <g>\r\n       <use style=\"stroke:#000000;stroke-width:0.8;\" x=\"26.925\" xlink:href=\"#mf1d97d9fab\" y=\"83.80279\"/>\r\n      </g>\r\n     </g>\r\n     <g id=\"text_7\">\r\n      <!-- 15 -->\r\n      <g transform=\"translate(7.2 87.602009)scale(0.1 -0.1)\">\r\n       <use xlink:href=\"#DejaVuSans-31\"/>\r\n       <use x=\"63.623047\" xlink:href=\"#DejaVuSans-35\"/>\r\n      </g>\r\n     </g>\r\n    </g>\r\n    <g id=\"ytick_5\">\r\n     <g id=\"line2d_8\">\r\n      <g>\r\n       <use style=\"stroke:#000000;stroke-width:0.8;\" x=\"26.925\" xlink:href=\"#mf1d97d9fab\" y=\"108.070647\"/>\r\n      </g>\r\n     </g>\r\n     <g id=\"text_8\">\r\n      <!-- 20 -->\r\n      <g transform=\"translate(7.2 111.869866)scale(0.1 -0.1)\">\r\n       <use xlink:href=\"#DejaVuSans-32\"/>\r\n       <use x=\"63.623047\" xlink:href=\"#DejaVuSans-30\"/>\r\n      </g>\r\n     </g>\r\n    </g>\r\n    <g id=\"ytick_6\">\r\n     <g id=\"line2d_9\">\r\n      <g>\r\n       <use style=\"stroke:#000000;stroke-width:0.8;\" x=\"26.925\" xlink:href=\"#mf1d97d9fab\" y=\"132.338504\"/>\r\n      </g>\r\n     </g>\r\n     <g id=\"text_9\">\r\n      <!-- 25 -->\r\n      <g transform=\"translate(7.2 136.137723)scale(0.1 -0.1)\">\r\n       <use xlink:href=\"#DejaVuSans-32\"/>\r\n       <use x=\"63.623047\" xlink:href=\"#DejaVuSans-35\"/>\r\n      </g>\r\n     </g>\r\n    </g>\r\n   </g>\r\n   <g id=\"patch_3\">\r\n    <path d=\"M 26.925 144.472433 \r\nL 26.925 8.572433 \r\n\" style=\"fill:none;stroke:#000000;stroke-linecap:square;stroke-linejoin:miter;stroke-width:0.8;\"/>\r\n   </g>\r\n   <g id=\"patch_4\">\r\n    <path d=\"M 162.825 144.472433 \r\nL 162.825 8.572433 \r\n\" style=\"fill:none;stroke:#000000;stroke-linecap:square;stroke-linejoin:miter;stroke-width:0.8;\"/>\r\n   </g>\r\n   <g id=\"patch_5\">\r\n    <path d=\"M 26.925 144.472433 \r\nL 162.825 144.472433 \r\n\" style=\"fill:none;stroke:#000000;stroke-linecap:square;stroke-linejoin:miter;stroke-width:0.8;\"/>\r\n   </g>\r\n   <g id=\"patch_6\">\r\n    <path d=\"M 26.925 8.572433 \r\nL 162.825 8.572433 \r\n\" style=\"fill:none;stroke:#000000;stroke-linecap:square;stroke-linejoin:miter;stroke-width:0.8;\"/>\r\n   </g>\r\n  </g>\r\n </g>\r\n <defs>\r\n  <clipPath id=\"pff379d7975\">\r\n   <rect height=\"135.9\" width=\"135.9\" x=\"26.925\" y=\"8.572433\"/>\r\n  </clipPath>\r\n </defs>\r\n</svg>\r\n",
      "text/plain": [
       "<Figure size 252x180 with 1 Axes>"
      ]
     },
     "metadata": {
      "needs_background": "light"
     },
     "output_type": "display_data"
    }
   ],
   "source": [
    "# Plot average t-shirt\n",
    "d2l.set_figsize()\n",
    "d2l.plt.imshow(ave_0.reshape(28, 28).tolist(), cmap='Greys')\n",
    "d2l.plt.show()"
   ]
  },
  {
   "cell_type": "code",
   "execution_count": 14,
   "metadata": {},
   "outputs": [
    {
     "data": {
      "image/svg+xml": "<?xml version=\"1.0\" encoding=\"utf-8\" standalone=\"no\"?>\r\n<!DOCTYPE svg PUBLIC \"-//W3C//DTD SVG 1.1//EN\"\r\n  \"http://www.w3.org/Graphics/SVG/1.1/DTD/svg11.dtd\">\r\n<svg height=\"168.350558pt\" version=\"1.1\" viewBox=\"0 0 170.025 168.350558\" width=\"170.025pt\" xmlns=\"http://www.w3.org/2000/svg\" xmlns:xlink=\"http://www.w3.org/1999/xlink\">\r\n <metadata>\r\n  <rdf:RDF xmlns:cc=\"http://creativecommons.org/ns#\" xmlns:dc=\"http://purl.org/dc/elements/1.1/\" xmlns:rdf=\"http://www.w3.org/1999/02/22-rdf-syntax-ns#\">\r\n   <cc:Work>\r\n    <dc:type rdf:resource=\"http://purl.org/dc/dcmitype/StillImage\"/>\r\n    <dc:date>2022-01-03T09:48:26.631513</dc:date>\r\n    <dc:format>image/svg+xml</dc:format>\r\n    <dc:creator>\r\n     <cc:Agent>\r\n      <dc:title>Matplotlib v3.4.3, https://matplotlib.org/</dc:title>\r\n     </cc:Agent>\r\n    </dc:creator>\r\n   </cc:Work>\r\n  </rdf:RDF>\r\n </metadata>\r\n <defs>\r\n  <style type=\"text/css\">*{stroke-linecap:butt;stroke-linejoin:round;}</style>\r\n </defs>\r\n <g id=\"figure_1\">\r\n  <g id=\"patch_1\">\r\n   <path d=\"M 0 168.350558 \r\nL 170.025 168.350558 \r\nL 170.025 0 \r\nL 0 0 \r\nz\r\n\" style=\"fill:none;\"/>\r\n  </g>\r\n  <g id=\"axes_1\">\r\n   <g id=\"patch_2\">\r\n    <path d=\"M 26.925 144.472433 \r\nL 162.825 144.472433 \r\nL 162.825 8.572433 \r\nL 26.925 8.572433 \r\nz\r\n\" style=\"fill:#ffffff;\"/>\r\n   </g>\r\n   <g clip-path=\"url(#pf7f70fe958)\">\r\n    <image height=\"136\" id=\"image2b779dc916\" transform=\"scale(1 -1)translate(0 -136)\" width=\"136\" x=\"26.925\" xlink:href=\"data:image/png;base64,\r\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\" y=\"-8.472433\"/>\r\n   </g>\r\n   <g id=\"matplotlib.axis_1\">\r\n    <g id=\"xtick_1\">\r\n     <g id=\"line2d_1\">\r\n      <defs>\r\n       <path d=\"M 0 0 \r\nL 0 3.5 \r\n\" id=\"mc8b753c37b\" style=\"stroke:#000000;stroke-width:0.8;\"/>\r\n      </defs>\r\n      <g>\r\n       <use style=\"stroke:#000000;stroke-width:0.8;\" x=\"29.351786\" xlink:href=\"#mc8b753c37b\" y=\"144.472433\"/>\r\n      </g>\r\n     </g>\r\n     <g id=\"text_1\">\r\n      <!-- 0 -->\r\n      <g transform=\"translate(26.170536 159.070871)scale(0.1 -0.1)\">\r\n       <defs>\r\n        <path d=\"M 2034 4250 \r\nQ 1547 4250 1301 3770 \r\nQ 1056 3291 1056 2328 \r\nQ 1056 1369 1301 889 \r\nQ 1547 409 2034 409 \r\nQ 2525 409 2770 889 \r\nQ 3016 1369 3016 2328 \r\nQ 3016 3291 2770 3770 \r\nQ 2525 4250 2034 4250 \r\nz\r\nM 2034 4750 \r\nQ 2819 4750 3233 4129 \r\nQ 3647 3509 3647 2328 \r\nQ 3647 1150 3233 529 \r\nQ 2819 -91 2034 -91 \r\nQ 1250 -91 836 529 \r\nQ 422 1150 422 2328 \r\nQ 422 3509 836 4129 \r\nQ 1250 4750 2034 4750 \r\nz\r\n\" id=\"DejaVuSans-30\" transform=\"scale(0.015625)\"/>\r\n       </defs>\r\n       <use xlink:href=\"#DejaVuSans-30\"/>\r\n      </g>\r\n     </g>\r\n    </g>\r\n    <g id=\"xtick_2\">\r\n     <g id=\"line2d_2\">\r\n      <g>\r\n       <use style=\"stroke:#000000;stroke-width:0.8;\" x=\"77.8875\" xlink:href=\"#mc8b753c37b\" y=\"144.472433\"/>\r\n      </g>\r\n     </g>\r\n     <g id=\"text_2\">\r\n      <!-- 10 -->\r\n      <g transform=\"translate(71.525 159.070871)scale(0.1 -0.1)\">\r\n       <defs>\r\n        <path d=\"M 794 531 \r\nL 1825 531 \r\nL 1825 4091 \r\nL 703 3866 \r\nL 703 4441 \r\nL 1819 4666 \r\nL 2450 4666 \r\nL 2450 531 \r\nL 3481 531 \r\nL 3481 0 \r\nL 794 0 \r\nL 794 531 \r\nz\r\n\" id=\"DejaVuSans-31\" transform=\"scale(0.015625)\"/>\r\n       </defs>\r\n       <use xlink:href=\"#DejaVuSans-31\"/>\r\n       <use x=\"63.623047\" xlink:href=\"#DejaVuSans-30\"/>\r\n      </g>\r\n     </g>\r\n    </g>\r\n    <g id=\"xtick_3\">\r\n     <g id=\"line2d_3\">\r\n      <g>\r\n       <use style=\"stroke:#000000;stroke-width:0.8;\" x=\"126.423214\" xlink:href=\"#mc8b753c37b\" y=\"144.472433\"/>\r\n      </g>\r\n     </g>\r\n     <g id=\"text_3\">\r\n      <!-- 20 -->\r\n      <g transform=\"translate(120.060714 159.070871)scale(0.1 -0.1)\">\r\n       <defs>\r\n        <path d=\"M 1228 531 \r\nL 3431 531 \r\nL 3431 0 \r\nL 469 0 \r\nL 469 531 \r\nQ 828 903 1448 1529 \r\nQ 2069 2156 2228 2338 \r\nQ 2531 2678 2651 2914 \r\nQ 2772 3150 2772 3378 \r\nQ 2772 3750 2511 3984 \r\nQ 2250 4219 1831 4219 \r\nQ 1534 4219 1204 4116 \r\nQ 875 4013 500 3803 \r\nL 500 4441 \r\nQ 881 4594 1212 4672 \r\nQ 1544 4750 1819 4750 \r\nQ 2544 4750 2975 4387 \r\nQ 3406 4025 3406 3419 \r\nQ 3406 3131 3298 2873 \r\nQ 3191 2616 2906 2266 \r\nQ 2828 2175 2409 1742 \r\nQ 1991 1309 1228 531 \r\nz\r\n\" id=\"DejaVuSans-32\" transform=\"scale(0.015625)\"/>\r\n       </defs>\r\n       <use xlink:href=\"#DejaVuSans-32\"/>\r\n       <use x=\"63.623047\" xlink:href=\"#DejaVuSans-30\"/>\r\n      </g>\r\n     </g>\r\n    </g>\r\n   </g>\r\n   <g id=\"matplotlib.axis_2\">\r\n    <g id=\"ytick_1\">\r\n     <g id=\"line2d_4\">\r\n      <defs>\r\n       <path d=\"M 0 0 \r\nL -3.5 0 \r\n\" id=\"mb7fcc544b6\" style=\"stroke:#000000;stroke-width:0.8;\"/>\r\n      </defs>\r\n      <g>\r\n       <use style=\"stroke:#000000;stroke-width:0.8;\" x=\"26.925\" xlink:href=\"#mb7fcc544b6\" y=\"10.999219\"/>\r\n      </g>\r\n     </g>\r\n     <g id=\"text_4\">\r\n      <!-- 0 -->\r\n      <g transform=\"translate(13.5625 14.798437)scale(0.1 -0.1)\">\r\n       <use xlink:href=\"#DejaVuSans-30\"/>\r\n      </g>\r\n     </g>\r\n    </g>\r\n    <g id=\"ytick_2\">\r\n     <g id=\"line2d_5\">\r\n      <g>\r\n       <use style=\"stroke:#000000;stroke-width:0.8;\" x=\"26.925\" xlink:href=\"#mb7fcc544b6\" y=\"35.267076\"/>\r\n      </g>\r\n     </g>\r\n     <g id=\"text_5\">\r\n      <!-- 5 -->\r\n      <g transform=\"translate(13.5625 39.066295)scale(0.1 -0.1)\">\r\n       <defs>\r\n        <path d=\"M 691 4666 \r\nL 3169 4666 \r\nL 3169 4134 \r\nL 1269 4134 \r\nL 1269 2991 \r\nQ 1406 3038 1543 3061 \r\nQ 1681 3084 1819 3084 \r\nQ 2600 3084 3056 2656 \r\nQ 3513 2228 3513 1497 \r\nQ 3513 744 3044 326 \r\nQ 2575 -91 1722 -91 \r\nQ 1428 -91 1123 -41 \r\nQ 819 9 494 109 \r\nL 494 744 \r\nQ 775 591 1075 516 \r\nQ 1375 441 1709 441 \r\nQ 2250 441 2565 725 \r\nQ 2881 1009 2881 1497 \r\nQ 2881 1984 2565 2268 \r\nQ 2250 2553 1709 2553 \r\nQ 1456 2553 1204 2497 \r\nQ 953 2441 691 2322 \r\nL 691 4666 \r\nz\r\n\" id=\"DejaVuSans-35\" transform=\"scale(0.015625)\"/>\r\n       </defs>\r\n       <use xlink:href=\"#DejaVuSans-35\"/>\r\n      </g>\r\n     </g>\r\n    </g>\r\n    <g id=\"ytick_3\">\r\n     <g id=\"line2d_6\">\r\n      <g>\r\n       <use style=\"stroke:#000000;stroke-width:0.8;\" x=\"26.925\" xlink:href=\"#mb7fcc544b6\" y=\"59.534933\"/>\r\n      </g>\r\n     </g>\r\n     <g id=\"text_6\">\r\n      <!-- 10 -->\r\n      <g transform=\"translate(7.2 63.334152)scale(0.1 -0.1)\">\r\n       <use xlink:href=\"#DejaVuSans-31\"/>\r\n       <use x=\"63.623047\" xlink:href=\"#DejaVuSans-30\"/>\r\n      </g>\r\n     </g>\r\n    </g>\r\n    <g id=\"ytick_4\">\r\n     <g id=\"line2d_7\">\r\n      <g>\r\n       <use style=\"stroke:#000000;stroke-width:0.8;\" x=\"26.925\" xlink:href=\"#mb7fcc544b6\" y=\"83.80279\"/>\r\n      </g>\r\n     </g>\r\n     <g id=\"text_7\">\r\n      <!-- 15 -->\r\n      <g transform=\"translate(7.2 87.602009)scale(0.1 -0.1)\">\r\n       <use xlink:href=\"#DejaVuSans-31\"/>\r\n       <use x=\"63.623047\" xlink:href=\"#DejaVuSans-35\"/>\r\n      </g>\r\n     </g>\r\n    </g>\r\n    <g id=\"ytick_5\">\r\n     <g id=\"line2d_8\">\r\n      <g>\r\n       <use style=\"stroke:#000000;stroke-width:0.8;\" x=\"26.925\" xlink:href=\"#mb7fcc544b6\" y=\"108.070647\"/>\r\n      </g>\r\n     </g>\r\n     <g id=\"text_8\">\r\n      <!-- 20 -->\r\n      <g transform=\"translate(7.2 111.869866)scale(0.1 -0.1)\">\r\n       <use xlink:href=\"#DejaVuSans-32\"/>\r\n       <use x=\"63.623047\" xlink:href=\"#DejaVuSans-30\"/>\r\n      </g>\r\n     </g>\r\n    </g>\r\n    <g id=\"ytick_6\">\r\n     <g id=\"line2d_9\">\r\n      <g>\r\n       <use style=\"stroke:#000000;stroke-width:0.8;\" x=\"26.925\" xlink:href=\"#mb7fcc544b6\" y=\"132.338504\"/>\r\n      </g>\r\n     </g>\r\n     <g id=\"text_9\">\r\n      <!-- 25 -->\r\n      <g transform=\"translate(7.2 136.137723)scale(0.1 -0.1)\">\r\n       <use xlink:href=\"#DejaVuSans-32\"/>\r\n       <use x=\"63.623047\" xlink:href=\"#DejaVuSans-35\"/>\r\n      </g>\r\n     </g>\r\n    </g>\r\n   </g>\r\n   <g id=\"patch_3\">\r\n    <path d=\"M 26.925 144.472433 \r\nL 26.925 8.572433 \r\n\" style=\"fill:none;stroke:#000000;stroke-linecap:square;stroke-linejoin:miter;stroke-width:0.8;\"/>\r\n   </g>\r\n   <g id=\"patch_4\">\r\n    <path d=\"M 162.825 144.472433 \r\nL 162.825 8.572433 \r\n\" style=\"fill:none;stroke:#000000;stroke-linecap:square;stroke-linejoin:miter;stroke-width:0.8;\"/>\r\n   </g>\r\n   <g id=\"patch_5\">\r\n    <path d=\"M 26.925 144.472433 \r\nL 162.825 144.472433 \r\n\" style=\"fill:none;stroke:#000000;stroke-linecap:square;stroke-linejoin:miter;stroke-width:0.8;\"/>\r\n   </g>\r\n   <g id=\"patch_6\">\r\n    <path d=\"M 26.925 8.572433 \r\nL 162.825 8.572433 \r\n\" style=\"fill:none;stroke:#000000;stroke-linecap:square;stroke-linejoin:miter;stroke-width:0.8;\"/>\r\n   </g>\r\n  </g>\r\n </g>\r\n <defs>\r\n  <clipPath id=\"pf7f70fe958\">\r\n   <rect height=\"135.9\" width=\"135.9\" x=\"26.925\" y=\"8.572433\"/>\r\n  </clipPath>\r\n </defs>\r\n</svg>\r\n",
      "text/plain": [
       "<Figure size 252x180 with 1 Axes>"
      ]
     },
     "metadata": {
      "needs_background": "light"
     },
     "output_type": "display_data"
    }
   ],
   "source": [
    "# Plot average trousers\n",
    "d2l.plt.imshow(ave_1.reshape(28, 28).tolist(), cmap='Greys')\n",
    "d2l.plt.show()"
   ]
  },
  {
   "cell_type": "markdown",
   "metadata": {},
   "source": [
    "Tensor.T reverse the dimension.   \n",
    "If n is the number of dimensions in x, x.T is equivalent to x.permute(n-1, n-2, ..., 0).  \n",
    "For the following case, the dim of (ave_1 - ave_0) is (1, 28, 28), after T op, the dim of w is (28, 28, 1)"
   ]
  },
  {
   "cell_type": "code",
   "execution_count": 44,
   "metadata": {},
   "outputs": [
    {
     "data": {
      "text/plain": [
       "tensor([[[0.6911, 0.6843, 0.1062, 0.5504],\n",
       "         [0.8062, 0.0993, 0.5491, 0.3566],\n",
       "         [0.5187, 0.8549, 0.5408, 0.1741]],\n",
       "\n",
       "        [[0.3010, 0.8986, 0.7873, 0.0081],\n",
       "         [0.5467, 0.9169, 0.2011, 0.8948],\n",
       "         [0.7678, 0.3328, 0.6457, 0.2153]]])"
      ]
     },
     "execution_count": 44,
     "metadata": {},
     "output_type": "execute_result"
    }
   ],
   "source": [
    "a = torch.rand(2, 3, 4)\n",
    "a"
   ]
  },
  {
   "cell_type": "code",
   "execution_count": 45,
   "metadata": {},
   "outputs": [
    {
     "data": {
      "text/plain": [
       "tensor([[[0.6911, 0.3010],\n",
       "         [0.8062, 0.5467],\n",
       "         [0.5187, 0.7678]],\n",
       "\n",
       "        [[0.6843, 0.8986],\n",
       "         [0.0993, 0.9169],\n",
       "         [0.8549, 0.3328]],\n",
       "\n",
       "        [[0.1062, 0.7873],\n",
       "         [0.5491, 0.2011],\n",
       "         [0.5408, 0.6457]],\n",
       "\n",
       "        [[0.5504, 0.0081],\n",
       "         [0.3566, 0.8948],\n",
       "         [0.1741, 0.2153]]])"
      ]
     },
     "execution_count": 45,
     "metadata": {},
     "output_type": "execute_result"
    }
   ],
   "source": [
    "a.T"
   ]
  },
  {
   "cell_type": "code",
   "execution_count": 18,
   "metadata": {},
   "outputs": [],
   "source": [
    "# Print test set accuracy with eyeballed threshold\n",
    "w = (ave_1 - ave_0).T"
   ]
  },
  {
   "cell_type": "code",
   "execution_count": 19,
   "metadata": {},
   "outputs": [
    {
     "data": {
      "text/plain": [
       "(torch.Size([2000, 1, 28, 28]), torch.Size([28, 28, 1]))"
      ]
     },
     "execution_count": 19,
     "metadata": {},
     "output_type": "execute_result"
    }
   ],
   "source": [
    "X_test.shape, w.shape"
   ]
  },
  {
   "cell_type": "code",
   "execution_count": 46,
   "metadata": {},
   "outputs": [
    {
     "data": {
      "text/plain": [
       "(torch.Size([2000, 784]), torch.Size([784]))"
      ]
     },
     "execution_count": 46,
     "metadata": {},
     "output_type": "execute_result"
    }
   ],
   "source": [
    "X_test.reshape(2000, -1).shape, w.flatten().shape"
   ]
  },
  {
   "cell_type": "code",
   "execution_count": 54,
   "metadata": {},
   "outputs": [
    {
     "data": {
      "text/plain": [
       "tensor([-1350652.0000,  -984603.1875, -1367680.0000,  ...,\n",
       "        -1105040.2500,  -710158.8750, -1023550.7500])"
      ]
     },
     "execution_count": 54,
     "metadata": {},
     "output_type": "execute_result"
    }
   ],
   "source": [
    "X_test.reshape(2000, -1) @ (w.flatten())"
   ]
  },
  {
   "cell_type": "code",
   "execution_count": 30,
   "metadata": {},
   "outputs": [],
   "source": [
    "# '@' is Matrix Multiplication operator in pytorch.\n",
    "predictions = X_test.reshape(2000, -1) @ (w.flatten()) > -1500000"
   ]
  },
  {
   "cell_type": "code",
   "execution_count": 34,
   "metadata": {},
   "outputs": [
    {
     "data": {
      "text/plain": [
       "(tensor([True, True, True,  ..., True, True, True]),\n",
       " tensor([1., 1., 1.,  ..., 1., 1., 1.]),\n",
       " tensor([True, True, True,  ..., True, True, True]))"
      ]
     },
     "execution_count": 34,
     "metadata": {},
     "output_type": "execute_result"
    }
   ],
   "source": [
    "predictions, y_test, predictions.type(y_test.dtype) == y_test"
   ]
  },
  {
   "cell_type": "code",
   "execution_count": 35,
   "metadata": {},
   "outputs": [
    {
     "data": {
      "text/plain": [
       "tensor(0.7870, dtype=torch.float64)"
      ]
     },
     "execution_count": 35,
     "metadata": {},
     "output_type": "execute_result"
    }
   ],
   "source": [
    "# Accuracy\n",
    "torch.mean((predictions.type(y_test.dtype) == y_test).double(), dtype=torch.float64)"
   ]
  },
  {
   "cell_type": "code",
   "execution_count": null,
   "metadata": {},
   "outputs": [],
   "source": []
  }
 ],
 "metadata": {
  "interpreter": {
   "hash": "fb82d7e5416f6a7e93ad7b4056e8fc801ae41614f9a63a1de00dbc26c70ea266"
  },
  "kernelspec": {
   "display_name": "Python 3.9.7 64-bit ('d2l': conda)",
   "language": "python",
   "name": "python3"
  },
  "language_info": {
   "codemirror_mode": {
    "name": "ipython",
    "version": 3
   },
   "file_extension": ".py",
   "mimetype": "text/x-python",
   "name": "python",
   "nbconvert_exporter": "python",
   "pygments_lexer": "ipython3",
   "version": "3.9.7"
  },
  "orig_nbformat": 4
 },
 "nbformat": 4,
 "nbformat_minor": 2
}
